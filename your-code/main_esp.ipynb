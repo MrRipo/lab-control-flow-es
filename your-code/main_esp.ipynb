{
  "cells": [
    {
      "cell_type": "markdown",
      "source": [
        "Autor: Albert Ripoll Batlló"
      ],
      "metadata": {
        "id": "0PQM-lABawzA"
      }
    },
    {
      "cell_type": "markdown",
      "metadata": {
        "id": "YPMlv1ktawFp"
      },
      "source": [
        "## Palabras"
      ]
    },
    {
      "cell_type": "code",
      "execution_count": 40,
      "metadata": {
        "id": "ao_smDf_awFr"
      },
      "outputs": [],
      "source": [
        "words = ['play', 'filling', 'bar', 'theatre', 'easygoing', 'date', 'lead', 'that', 'story',  'island']"
      ]
    },
    {
      "cell_type": "markdown",
      "metadata": {
        "id": "m-QXiafXawFt"
      },
      "source": [
        "**Imprime todas las letras en mayuscula**"
      ]
    },
    {
      "cell_type": "code",
      "execution_count": 41,
      "metadata": {
        "colab": {
          "base_uri": "https://localhost:8080/"
        },
        "id": "biXAGKDGawFt",
        "outputId": "79728192-ecee-44bd-c5dc-b217b797bb8c"
      },
      "outputs": [
        {
          "output_type": "stream",
          "name": "stdout",
          "text": [
            "PLAY\n",
            "FILLING\n",
            "BAR\n",
            "THEATRE\n",
            "EASYGOING\n",
            "DATE\n",
            "LEAD\n",
            "THAT\n",
            "STORY\n",
            "ISLAND\n"
          ]
        }
      ],
      "source": [
        "# Por cada palabra que haya en la lista \"words\"\n",
        "for word in words:\n",
        "  # Imprime la palabra en maúsculas \"upper\"\n",
        "  print(word.upper())"
      ]
    },
    {
      "cell_type": "markdown",
      "metadata": {
        "id": "NZia1d8hawFu"
      },
      "source": [
        "**Crea una nueva lista de palabras que contengan 5 o más letras**"
      ]
    },
    {
      "cell_type": "code",
      "execution_count": 42,
      "metadata": {
        "colab": {
          "base_uri": "https://localhost:8080/"
        },
        "id": "1I8tUcjxawFu",
        "outputId": "3effa89c-c3ba-4372-fc3d-ae3d7277b5c0"
      },
      "outputs": [
        {
          "output_type": "stream",
          "name": "stdout",
          "text": [
            "['oyprb', 'zeofhtsth', 'ejatdjp', 'ufrghlyspc', 'cylnykwqhv', 'ralqipxhem', 'uxsixr', 'vagjdle', 'zmvoieaf', 'vismlgmpo']\n"
          ]
        }
      ],
      "source": [
        "import random\n",
        "import string\n",
        "\n",
        "def generar_palabras_aleatorias(n:int) -> list:\n",
        "  \"\"\"\n",
        "  Genera \"n\" palabras aleatorias de 5 a 10 letras aleatorias del abecedario.\n",
        "  Entradas:\n",
        "  n (int): Número de palabras aleatorias a generar.\n",
        "  Salidas:\n",
        "  palabras (list of strings): Lista de palabras aleatorias.\n",
        "  \"\"\"\n",
        "    # Lista para almacenar las palabras aleatorias\n",
        "  palabras = []\n",
        "  # Se generan \"n\" palabras. _ indica posición de variable que no se usa.\n",
        "  for _ in range(n):\n",
        "      # Se generan enteros de 5 a 10.\n",
        "      longitud = random.randint(5, 10)\n",
        "      # Se selecionan \"choices\" tantas letras de del alfabeto \"ascii\" como longitud de la palabra.\n",
        "      palabra = ''.join(random.choices(string.ascii_lowercase, k=longitud))\n",
        "      # Se añaden las palabras aleatorias\n",
        "      palabras.append(palabra)\n",
        "  return palabras\n",
        "\n",
        "palabras_aleatorias = generar_palabras_aleatorias(10)\n",
        "print(palabras_aleatorias)"
      ]
    },
    {
      "cell_type": "markdown",
      "metadata": {
        "id": "v75rE7rNawFu"
      },
      "source": [
        "\n",
        "**Imprime la primera palabra que empiece por 't'**"
      ]
    },
    {
      "cell_type": "code",
      "execution_count": 43,
      "metadata": {
        "colab": {
          "base_uri": "https://localhost:8080/"
        },
        "id": "zg33-uT9awFv",
        "outputId": "cbc96b18-0613-4ec2-ab22-39c84eb9dab0"
      },
      "outputs": [
        {
          "output_type": "stream",
          "name": "stdout",
          "text": [
            "tvcodk\n"
          ]
        }
      ],
      "source": [
        "def primera_palabra_t(n:int):\n",
        "  \"\"\"\n",
        "  Genera \"n\" palabras aleatorias de 5 a 10 letras aleatorias del abecedario.\n",
        "  Y imprime la primera palabra que empieza por t.\n",
        "  Entradas:\n",
        "  n (int): Número de palabras aleatorias a generar.\n",
        "  Salidas:\n",
        "  print: La primera palabra que empieza por t si hay.\n",
        "  \"\"\"\n",
        "  # Se generan \"n\" palabras. _ indica posición de variable que no se usa.\n",
        "  for _ in range(n):\n",
        "      # Se generan enteros de 5 a 10.\n",
        "      longitud = random.randint(5, 10)\n",
        "      # Se selecionan \"choices\" tantas letras de del alfabeto \"ascii\" como longitud de la palabra.\n",
        "      palabra = ''.join(random.choices(string.ascii_lowercase, k=longitud))\n",
        "      # Si la palabra empieza por \"t\", la imprime y deja de generar palabras.\n",
        "      if palabra[0] == \"t\":\n",
        "        print(palabra)\n",
        "        break\n",
        "primera_palabra_t(100)"
      ]
    },
    {
      "cell_type": "markdown",
      "metadata": {
        "id": "3LBrSr-LawFv"
      },
      "source": [
        "## Números"
      ]
    },
    {
      "cell_type": "markdown",
      "metadata": {
        "id": "Oj_FrZibawFv"
      },
      "source": [
        "**Crea una lista que contenga el cuadrado de cada numero entre 1 y 10**"
      ]
    },
    {
      "cell_type": "code",
      "execution_count": 44,
      "metadata": {
        "colab": {
          "base_uri": "https://localhost:8080/"
        },
        "id": "xyx_bjTdawFw",
        "outputId": "3a46313d-08d4-4f54-d639-61cc10bce450"
      },
      "outputs": [
        {
          "output_type": "stream",
          "name": "stdout",
          "text": [
            "[1, 4, 9, 16, 25, 36, 49, 64, 81, 100]\n"
          ]
        }
      ],
      "source": [
        "# Se genera lista vacía para almacenar los cuadrados\n",
        "cuadrados = []\n",
        "# Para los números del 1 al 11 excluido se añaden los cuadrados a la lista\n",
        "for i in range(1,11):\n",
        "  cuadrados.append(i**2)\n",
        "print(cuadrados)"
      ]
    },
    {
      "cell_type": "markdown",
      "metadata": {
        "id": "rp0yhweIawFw"
      },
      "source": [
        "**Imprime una lista que contenga el cuadrado de cada número impar del 1 al 10**"
      ]
    },
    {
      "cell_type": "code",
      "execution_count": 45,
      "metadata": {
        "colab": {
          "base_uri": "https://localhost:8080/"
        },
        "id": "gpxTBScPawFw",
        "outputId": "f9a6f161-3284-4671-befd-8244ad53e9b9"
      },
      "outputs": [
        {
          "output_type": "stream",
          "name": "stdout",
          "text": [
            "[1, 9, 25, 49, 81]\n"
          ]
        }
      ],
      "source": [
        "# Se genera lista vacía para almacenar los cuadrados\n",
        "cuadrados_impar = []\n",
        "# Para los números del 1 al 11 excluido\n",
        "for i in range(1,11):\n",
        "  # Si el residuo de la division es diferente de 0 (es impar)\n",
        "  if i % 2 != 0:\n",
        "    # Se añaden los cuadrados a la lista\n",
        "    cuadrados_impar.append(i**2)\n",
        "print(cuadrados_impar)"
      ]
    },
    {
      "cell_type": "markdown",
      "metadata": {
        "id": "ezTjrx0tawFx"
      },
      "source": [
        "**Crear una lista con los cuadrados de todos los múltiplos de 8 por debajo de 1000**"
      ]
    },
    {
      "cell_type": "code",
      "execution_count": 46,
      "metadata": {
        "colab": {
          "base_uri": "https://localhost:8080/"
        },
        "id": "hODth5OjawFx",
        "outputId": "51c54af6-6f9e-495d-d441-d497d10a6123"
      },
      "outputs": [
        {
          "output_type": "stream",
          "name": "stdout",
          "text": [
            "[64, 256, 576]\n"
          ]
        }
      ],
      "source": [
        "# Se genera lista vacía para almacenar los cuadrados\n",
        "cuadrados_mult = []\n",
        "# Se inicializa el primer múltiplo de 8.\n",
        "i=8\n",
        "# Mientras el valor del cuadrado sea menor a 1000\n",
        "while i**2<1000:\n",
        "  # Se añade el cuadrado a la lista\n",
        "  cuadrados_mult.append(i**2)\n",
        "  # Se genera el siguiente múltiplo de 8\n",
        "  i+=8\n",
        "print(cuadrados_mult)"
      ]
    },
    {
      "cell_type": "markdown",
      "metadata": {
        "id": "x0A-EMRvawFx"
      },
      "source": [
        "## People"
      ]
    },
    {
      "cell_type": "code",
      "execution_count": 47,
      "metadata": {
        "id": "VsXVihHwawFx"
      },
      "outputs": [],
      "source": [
        "people = [\n",
        "    {\n",
        "        \"name\": \"Juan\",\n",
        "        \"age\": 34,\n",
        "        \"n_kids\": 2\n",
        "    },\n",
        "    {\n",
        "        \"name\": \"Pepe\",\n",
        "        \"age\": 27,\n",
        "        \"n_kids\": 0\n",
        "    },\n",
        "    {\n",
        "        \"name\": \"Sonia\",\n",
        "        \"age\": 41,\n",
        "        \"n_kids\": 1\n",
        "    },\n",
        "    {\n",
        "        \"name\": \"Lucía\",\n",
        "        \"age\": 22,\n",
        "        \"n_kids\": 2\n",
        "    },\n",
        "    {\n",
        "        \"name\": \"Leo\",\n",
        "        \"age\": 55,\n",
        "        \"n_kids\": 5\n",
        "    }\n",
        "]"
      ]
    },
    {
      "cell_type": "markdown",
      "metadata": {
        "id": "RxJca5hrawFy"
      },
      "source": [
        "**Cuánta gente hay?**"
      ]
    },
    {
      "cell_type": "code",
      "execution_count": 48,
      "metadata": {
        "colab": {
          "base_uri": "https://localhost:8080/"
        },
        "id": "vfOEIAQZawFy",
        "outputId": "83726dc7-497e-47e5-cab8-3d186432c9ab"
      },
      "outputs": [
        {
          "output_type": "execute_result",
          "data": {
            "text/plain": [
              "5"
            ]
          },
          "metadata": {},
          "execution_count": 48
        }
      ],
      "source": [
        "# Suponiendo que cada entrada es una persona distinta\n",
        "len(people)"
      ]
    },
    {
      "cell_type": "markdown",
      "metadata": {
        "id": "zYG5z-DkawFy"
      },
      "source": [
        "**Cuanta gente tiene hijos**?"
      ]
    },
    {
      "cell_type": "code",
      "execution_count": 49,
      "metadata": {
        "colab": {
          "base_uri": "https://localhost:8080/"
        },
        "id": "BVrimdHRawFz",
        "outputId": "5f1f19c3-d737-4fc6-9b11-b4df2b6f996b"
      },
      "outputs": [
        {
          "output_type": "stream",
          "name": "stdout",
          "text": [
            "{'name': 'Juan', 'age': 34, 'n_kids': 2}\n",
            "{'name': 'Pepe', 'age': 27, 'n_kids': 0}\n",
            "{'name': 'Sonia', 'age': 41, 'n_kids': 1}\n",
            "{'name': 'Lucía', 'age': 22, 'n_kids': 2}\n",
            "{'name': 'Leo', 'age': 55, 'n_kids': 5}\n"
          ]
        }
      ],
      "source": [
        "# Primera iteración sobre las personas\n",
        "for person in people:\n",
        "  print(person)"
      ]
    },
    {
      "cell_type": "code",
      "source": [
        "# Primera iteración sobre las personas\n",
        "for person in people:\n",
        "  # Acceso al número de niños de cada persona\n",
        "  print(person[\"n_kids\"])"
      ],
      "metadata": {
        "colab": {
          "base_uri": "https://localhost:8080/"
        },
        "id": "LCmMURxCVDMe",
        "outputId": "773588e8-fbe2-4310-c7c9-76397997018b"
      },
      "execution_count": 50,
      "outputs": [
        {
          "output_type": "stream",
          "name": "stdout",
          "text": [
            "2\n",
            "0\n",
            "1\n",
            "2\n",
            "5\n"
          ]
        }
      ]
    },
    {
      "cell_type": "code",
      "source": [
        "# SOLUCIÓN EJERCICIO: Contaje de personas con hijos (para cada persona con hijos se suma 1 al count)\n",
        "count = 0\n",
        "for person in people:\n",
        "  if person[\"n_kids\"] > 0:\n",
        "    count += 1\n",
        "print(count)"
      ],
      "metadata": {
        "colab": {
          "base_uri": "https://localhost:8080/"
        },
        "id": "zRJ9pL5CVgQ1",
        "outputId": "d522faef-3867-4fd8-e9e2-f887561964c3"
      },
      "execution_count": 51,
      "outputs": [
        {
          "output_type": "stream",
          "name": "stdout",
          "text": [
            "4\n"
          ]
        }
      ]
    },
    {
      "cell_type": "markdown",
      "metadata": {
        "id": "MBClnKvDawFz"
      },
      "source": [
        "**Cuantos hijos tienen en total?**"
      ]
    },
    {
      "cell_type": "code",
      "execution_count": 52,
      "metadata": {
        "id": "aEfQES9oawFz",
        "colab": {
          "base_uri": "https://localhost:8080/"
        },
        "outputId": "d0bc328b-3a4e-4b25-8a2f-99408cc336cd"
      },
      "outputs": [
        {
          "output_type": "stream",
          "name": "stdout",
          "text": [
            "10\n"
          ]
        }
      ],
      "source": [
        "# Se suma el número de niños para cada persona (no hace falta el if ya que se suma 0 si no tiene hijos).\n",
        "count = 0\n",
        "for person in people:\n",
        "  count += person[\"n_kids\"]\n",
        "print(count)"
      ]
    },
    {
      "cell_type": "markdown",
      "metadata": {
        "id": "plHqbITGawF0"
      },
      "source": [
        "**En un año, los nombres que terminen en \"a\" tendrán un niño extra. Crea una lista de diccionarios con la información de las personas en un año**"
      ]
    },
    {
      "cell_type": "code",
      "execution_count": 53,
      "metadata": {
        "id": "R7wucitmawF0",
        "colab": {
          "base_uri": "https://localhost:8080/"
        },
        "outputId": "fb123911-b7eb-46cc-827e-2bfacfa60b06"
      },
      "outputs": [
        {
          "output_type": "stream",
          "name": "stdout",
          "text": [
            "n\n",
            "e\n",
            "a\n",
            "a\n",
            "o\n"
          ]
        }
      ],
      "source": [
        "# Acceso a la última letra del nombre.\n",
        "for person in people:\n",
        "  print(person[\"name\"][-1])"
      ]
    },
    {
      "cell_type": "code",
      "source": [
        "for person in people:\n",
        "  # Se suma un año a todas las personas (ya que estamos en la situación 1 año más adelante)\n",
        "  person[\"age\"] += 1\n",
        "\n",
        "  # Si la última letra del nombre es a, se suma 1 a la cantidad de niños\n",
        "  if person[\"name\"][-1] == \"a\":\n",
        "    person[\"n_kids\"] += 1\n",
        "\n",
        "print(\"Original people:\")\n",
        "print(\"{'name': 'Juan', 'age': 34, 'n_kids': 2}, {'name': 'Pepe', 'age': 27, 'n_kids': 0}, {'name': 'Sonia', 'age': 41, 'n_kids': 1}, {'name': 'Lucía', 'age': 22, 'n_kids': 2}, {'name': 'Leo', 'age': 55, 'n_kids': 5}\")\n",
        "\n",
        "print(\"\\nNew people:\\n\", people)"
      ],
      "metadata": {
        "colab": {
          "base_uri": "https://localhost:8080/"
        },
        "id": "t3rTGMU_W6Gs",
        "outputId": "6b8f34f6-b967-4f3c-d733-55a4337f00ba"
      },
      "execution_count": 54,
      "outputs": [
        {
          "output_type": "stream",
          "name": "stdout",
          "text": [
            "Original people:\n",
            "{'name': 'Juan', 'age': 34, 'n_kids': 2}, {'name': 'Pepe', 'age': 27, 'n_kids': 0}, {'name': 'Sonia', 'age': 41, 'n_kids': 1}, {'name': 'Lucía', 'age': 22, 'n_kids': 2}, {'name': 'Leo', 'age': 55, 'n_kids': 5}\n",
            "\n",
            "New people:\n",
            " [{'name': 'Juan', 'age': 35, 'n_kids': 2}, {'name': 'Pepe', 'age': 28, 'n_kids': 0}, {'name': 'Sonia', 'age': 42, 'n_kids': 2}, {'name': 'Lucía', 'age': 23, 'n_kids': 3}, {'name': 'Leo', 'age': 56, 'n_kids': 5}]\n"
          ]
        }
      ]
    }
  ],
  "metadata": {
    "kernelspec": {
      "display_name": "Python 3 (ipykernel)",
      "language": "python",
      "name": "python3"
    },
    "language_info": {
      "codemirror_mode": {
        "name": "ipython",
        "version": 3
      },
      "file_extension": ".py",
      "mimetype": "text/x-python",
      "name": "python",
      "nbconvert_exporter": "python",
      "pygments_lexer": "ipython3",
      "version": "3.9.13"
    },
    "toc": {
      "base_numbering": 1,
      "nav_menu": {},
      "number_sections": false,
      "sideBar": true,
      "skip_h1_title": false,
      "title_cell": "Table of Contents",
      "title_sidebar": "Contents",
      "toc_cell": false,
      "toc_position": {},
      "toc_section_display": true,
      "toc_window_display": true
    },
    "varInspector": {
      "cols": {
        "lenName": 16,
        "lenType": 16,
        "lenVar": 40
      },
      "kernels_config": {
        "python": {
          "delete_cmd_postfix": "",
          "delete_cmd_prefix": "del ",
          "library": "var_list.py",
          "varRefreshCmd": "print(var_dic_list())"
        },
        "r": {
          "delete_cmd_postfix": ") ",
          "delete_cmd_prefix": "rm(",
          "library": "var_list.r",
          "varRefreshCmd": "cat(var_dic_list()) "
        }
      },
      "types_to_exclude": [
        "module",
        "function",
        "builtin_function_or_method",
        "instance",
        "_Feature"
      ],
      "window_display": false
    },
    "vscode": {
      "interpreter": {
        "hash": "aee8b7b246df8f9039afb4144a1f6fd8d2ca17a180786b69acc140d282b71a49"
      }
    },
    "colab": {
      "provenance": []
    }
  },
  "nbformat": 4,
  "nbformat_minor": 0
}